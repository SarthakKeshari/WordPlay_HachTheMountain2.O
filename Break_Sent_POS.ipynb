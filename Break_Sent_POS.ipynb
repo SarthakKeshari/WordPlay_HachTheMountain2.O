{
  "nbformat": 4,
  "nbformat_minor": 0,
  "metadata": {
    "colab": {
      "name": "Break_Sent_POS.ipynb",
      "provenance": [],
      "authorship_tag": "ABX9TyPHLlqYPAAo3pvW/YwRjgBx",
      "include_colab_link": true
    },
    "kernelspec": {
      "name": "python3",
      "display_name": "Python 3"
    },
    "language_info": {
      "name": "python"
    }
  },
  "cells": [
    {
      "cell_type": "markdown",
      "metadata": {
        "id": "view-in-github",
        "colab_type": "text"
      },
      "source": [
        "<a href=\"https://colab.research.google.com/github/SarthakKeshari/WordPlay_HachTheMountain2.O/blob/main/Break_Sent_POS.ipynb\" target=\"_parent\"><img src=\"https://colab.research.google.com/assets/colab-badge.svg\" alt=\"Open In Colab\"/></a>"
      ]
    },
    {
      "cell_type": "code",
      "metadata": {
        "colab": {
          "base_uri": "https://localhost:8080/",
          "height": 582
        },
        "id": "_lq8ONzCSI2n",
        "outputId": "f87f79b5-b5c4-4a68-c0c2-36a7e3b0e9b1"
      },
      "source": [
        "# !pip install requests\n",
        "# !pip install beautifulsoup4\n",
        "\n",
        "import requests\n",
        "from bs4 import BeautifulSoup\n",
        "import spacy\n",
        "nlp = spacy.load('en_core_web_sm')\n",
        "\n",
        "import csv\n",
        "import random\n",
        "import string\n",
        "import re\n",
        "\n",
        "from google.colab import drive\n",
        "drive.mount('/drive')\n",
        "\n",
        "web = requests.get('https://www.randomwordgenerator.org/Random/sentence_generator')\n",
        "data = web.content\n",
        "soup = BeautifulSoup(data,features=\"html.parser\")\n",
        "# print(soup)\n",
        "tag = soup.find_all(\"p\",\"result\")\n",
        "# print(tag)\n",
        "\n",
        "text=\"\"\n",
        "for i in tag:\n",
        "  text = i.text[4:]\n",
        "  break\n",
        "\n",
        "# text = \"Don't worry, everything is all right.\"\n",
        "\n",
        "pos_dic = {\"Noun\":[\"NN\",\"NNP\",\"NNPS\",\"NNS\"], \"Pronoun\":[\"PRP\",\"PRP$\",\"WP\",\"WP$\"] , \"Adjective\":[\"JJ\",\"JJR\",\"JJS\"] , \"Adverb\":[\"RB\",\"RBR\",\"RBS\",\"WRB\"] , \"Verb\":[\"VB\",\"VBD\",\"VBG\",\"VBN\",\"VBP\",\"VBZ\"] , \"Preposition\":[\"IN\",\"TO\"] , \"Conjunction\":[\"CC\",\"IN\"] ,\"Interjection\":[\"UH\"],\"Not a POS\":[\"Not a POS\"]}\n",
        "inverted_pos_dic = {(\"NN\",\"NNP\",\"NNPS\",\"NNS\"):\"Noun\" , (\"PRP\",\"PRP$\",\"WP\",\"WP$\"):\"Pronoun\" , (\"JJ\",\"JJR\",\"JJS\"):\"Adjective\" , (\"RB\",\"RBR\",\"RBS\",\"WRB\"):\"Adverb\" , (\"VB\",\"VBD\",\"VBG\",\"VBN\",\"VBP\",\"VBZ\"):\"Verb\" , (\"IN\",\"TO\"):\"Preposition\" , (\"CC\",\"IN\"):\"Conjunction\" , (\"UH\"):\"Interjection\",(\"Not a POS\"):\"Not a POS\"}\n",
        "\n",
        "pos = list(pos_dic.keys())\n",
        "inverted_pos = list(inverted_pos_dic.keys())\n",
        "# print(pos)\n",
        "\n",
        "for i in range(len(pos_dic)):\n",
        "  print(i+1,\" - \" , pos[i])\n",
        "print(\"\\n\")\n",
        "print(\"Choose the correct parts of speech for every word in the sentence. \\n Example - Type '1' for Noun\\n\")\n",
        "\n",
        "print(\"\\nSentence ► \",text)\n",
        "\n",
        "user_ans = []\n",
        "comp_ans = []\n",
        "\n",
        "#split into words by white space\n",
        "words = text.split()\n",
        "#prepare regex for char filtering\n",
        "re_punc = re.compile('[%s]' % re.escape(string.punctuation))\n",
        "#remove punctuation from each word\n",
        "words = [re_punc.sub('',w) for w in words]\n",
        "\n",
        "print(\"\\nYour answers here - \")\n",
        "for i in words:\n",
        "  print(f'{i:{14}} {\"-\":{2}}' ,end=\"\")\n",
        "  user_ans.append(pos_dic.get(pos[int(input())-1]))\n",
        "  word = nlp(i)\n",
        "  for token in word:\n",
        "    comp_ans.append(token.tag_)\n",
        "    break\n",
        "\n",
        "print(\"\\nResults - \")\n",
        "\n",
        "# For showing incorrect responses and correct answers beside it\n",
        "score = 0\n",
        "for i in range(len(comp_ans)):\n",
        "  answer=\"Not a POS\"\n",
        "  for j in range(len(inverted_pos)):\n",
        "    # print((comp_ans[i]))\n",
        "    # print((inverted_pos[j]))\n",
        "    if(comp_ans[i] in inverted_pos[j]):\n",
        "      answer = pos[j]\n",
        "      break\n",
        "  # print((comp_ans))\n",
        "  # print((user_ans))\n",
        "  # print(answer)\n",
        "  if(comp_ans[i] in user_ans[i]):\n",
        "    print(f'{\"Correct\":{9}} {\"-\":{1}} {words[i]+\"(\"+answer+\")\"}')\n",
        "    score+=1;\n",
        "  else:\n",
        "    print(f'{\"Incorrect\":{9}} {\"-\":{1}} {words[i]+\"(\"+answer+\")\"}')\n",
        "\n",
        "  # print(answer)\n",
        "\n",
        "print(\"\\nScore is \"+str(score)+\"/\"+str(len(words)))"
      ],
      "execution_count": null,
      "outputs": [
        {
          "output_type": "stream",
          "text": [
            "Drive already mounted at /drive; to attempt to forcibly remount, call drive.mount(\"/drive\", force_remount=True).\n",
            "1  -  Noun\n",
            "2  -  Pronoun\n",
            "3  -  Adjective\n",
            "4  -  Adverb\n",
            "5  -  Verb\n",
            "6  -  Preposition\n",
            "7  -  Conjunction\n",
            "8  -  Interjection\n",
            "9  -  Not a POS\n",
            "\n",
            "\n",
            "Choose the correct parts of speech for every word in the sentence. \n",
            " Example - Type '1' for Noun\n",
            "\n",
            "\n",
            "Sentence ►  Don't worry, everything is all right.\n",
            "\n",
            "Your answers here - \n",
            "Dont           - 1\n",
            "worry          - p\n"
          ],
          "name": "stdout"
        },
        {
          "output_type": "error",
          "ename": "ValueError",
          "evalue": "ignored",
          "traceback": [
            "\u001b[0;31m---------------------------------------------------------------------------\u001b[0m",
            "\u001b[0;31mValueError\u001b[0m                                Traceback (most recent call last)",
            "\u001b[0;32m<ipython-input-46-e2ec617ec615>\u001b[0m in \u001b[0;36m<module>\u001b[0;34m()\u001b[0m\n\u001b[1;32m     56\u001b[0m \u001b[0;32mfor\u001b[0m \u001b[0mi\u001b[0m \u001b[0;32min\u001b[0m \u001b[0mwords\u001b[0m\u001b[0;34m:\u001b[0m\u001b[0;34m\u001b[0m\u001b[0;34m\u001b[0m\u001b[0m\n\u001b[1;32m     57\u001b[0m   \u001b[0mprint\u001b[0m\u001b[0;34m(\u001b[0m\u001b[0;34mf'{i:{14}} {\"-\":{2}}'\u001b[0m \u001b[0;34m,\u001b[0m\u001b[0mend\u001b[0m\u001b[0;34m=\u001b[0m\u001b[0;34m\"\"\u001b[0m\u001b[0;34m)\u001b[0m\u001b[0;34m\u001b[0m\u001b[0;34m\u001b[0m\u001b[0m\n\u001b[0;32m---> 58\u001b[0;31m   \u001b[0muser_ans\u001b[0m\u001b[0;34m.\u001b[0m\u001b[0mappend\u001b[0m\u001b[0;34m(\u001b[0m\u001b[0mpos_dic\u001b[0m\u001b[0;34m.\u001b[0m\u001b[0mget\u001b[0m\u001b[0;34m(\u001b[0m\u001b[0mpos\u001b[0m\u001b[0;34m[\u001b[0m\u001b[0mint\u001b[0m\u001b[0;34m(\u001b[0m\u001b[0minput\u001b[0m\u001b[0;34m(\u001b[0m\u001b[0;34m)\u001b[0m\u001b[0;34m)\u001b[0m\u001b[0;34m-\u001b[0m\u001b[0;36m1\u001b[0m\u001b[0;34m]\u001b[0m\u001b[0;34m)\u001b[0m\u001b[0;34m)\u001b[0m\u001b[0;34m\u001b[0m\u001b[0;34m\u001b[0m\u001b[0m\n\u001b[0m\u001b[1;32m     59\u001b[0m   \u001b[0mword\u001b[0m \u001b[0;34m=\u001b[0m \u001b[0mnlp\u001b[0m\u001b[0;34m(\u001b[0m\u001b[0mi\u001b[0m\u001b[0;34m)\u001b[0m\u001b[0;34m\u001b[0m\u001b[0;34m\u001b[0m\u001b[0m\n\u001b[1;32m     60\u001b[0m   \u001b[0;32mfor\u001b[0m \u001b[0mtoken\u001b[0m \u001b[0;32min\u001b[0m \u001b[0mword\u001b[0m\u001b[0;34m:\u001b[0m\u001b[0;34m\u001b[0m\u001b[0;34m\u001b[0m\u001b[0m\n",
            "\u001b[0;31mValueError\u001b[0m: invalid literal for int() with base 10: 'p'"
          ]
        }
      ]
    }
  ]
}