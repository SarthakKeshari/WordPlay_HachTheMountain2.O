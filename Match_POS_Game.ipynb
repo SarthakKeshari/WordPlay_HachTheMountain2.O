{
  "nbformat": 4,
  "nbformat_minor": 0,
  "metadata": {
    "colab": {
      "name": "Match_POS_Game.ipynb",
      "provenance": [],
      "authorship_tag": "ABX9TyNpasWvLdCZ0dfP9LhfeCiT"
    },
    "kernelspec": {
      "name": "python3",
      "display_name": "Python 3"
    },
    "language_info": {
      "name": "python"
    }
  },
  "cells": [
    {
      "cell_type": "code",
      "metadata": {
        "id": "hJz2XT5Abk0F",
        "colab": {
          "base_uri": "https://localhost:8080/"
        },
        "outputId": "c7f52ee5-e073-46b6-8973-6162e3803a52"
      },
      "source": [
        "import spacy\n",
        "import csv\n",
        "import random\n",
        "\n",
        "from google.colab import drive\n",
        "drive.mount('/drive')\n",
        "\n",
        "nlp = spacy.load('en_core_web_sm')\n",
        "\n",
        "words = []\n",
        "\n",
        "with open('/drive/My Drive/Colab Notebooks/English_Game/final_EnglishGame_dataset.csv') as csv_file:\n",
        "    csv_reader = csv.reader(csv_file, delimiter=',')\n",
        "    for row in csv_reader:\n",
        "      words.append(row[0])\n",
        "\n",
        "random.shuffle(words)\n",
        "words = words[:5]\n",
        "# words = [\"officiously\",\"officious\"]\n",
        "\n",
        "pos_dic = {\"Noun\":[\"NN\",\"NNP\",\"NNPS\",\"NNS\"], \"Pronoun\":[\"PRP\",\"PRP$\",\"WP\",\"WP$\"] , \"Adjective\":[\"JJ\",\"JJR\",\"JJS\"] , \"Adverb\":[\"RB\",\"RBR\",\"RBS\",\"WRB\"] , \"Verb\":[\"VB\",\"VBD\",\"VBG\",\"VBN\",\"VBP\",\"VBZ\"] , \"Preposition\":[\"IN\",\"TO\"] , \"Conjunction\":[\"CC\",\"IN\"] ,\"Interjection\":[\"UH\"]}\n",
        "inverted_pos_dic = {(\"NN\",\"NNP\",\"NNPS\",\"NNS\"):\"Noun\" , (\"PRP\",\"PRP$\",\"WP\",\"WP$\"):\"Pronoun\" , (\"JJ\",\"JJR\",\"JJS\"):\"Adjective\" , (\"RB\",\"RBR\",\"RBS\",\"WRB\"):\"Adverb\" , (\"VB\",\"VBD\",\"VBG\",\"VBN\",\"VBP\",\"VBZ\"):\"Verb\" , (\"IN\",\"TO\"):\"Preposition\" , (\"CC\",\"IN\"):\"Conjunction\" , (\"UH\"):\"Interjection\"}\n",
        "\n",
        "pos = list(pos_dic.keys())\n",
        "inverted_pos = list(inverted_pos_dic.keys())\n",
        "# print(pos)\n",
        "\n",
        "for i in range(len(pos_dic)):\n",
        "  print(i+1,\" - \" , pos[i])\n",
        "print(\"\\n\")\n",
        "print(\"Choose the correct parts of speech. \\n Example - Type '1' for Noun\\n\")\n",
        "user_ans = []\n",
        "comp_ans = []\n",
        "\n",
        "print(\"Your given words are - \")\n",
        "for i in words:\n",
        "  print(f'{i:{14}} {\"-\":{2}}' ,end=\"\")\n",
        "  user_ans.append(pos_dic.get(pos[int(input())-1]))\n",
        "  word = nlp(i)\n",
        "  for token in word:\n",
        "    comp_ans.append(token.tag_)\n",
        "\n",
        "# print(\"\\n\")\n",
        "# print(user_ans)\n",
        "# print(comp_ans)\n",
        "# print(\"\\n\")\n",
        "print(\"\\nResults - \")\n",
        "\n",
        "# For showing incorrect responses and correct answers beside it\n",
        "score = 0\n",
        "for i in range(len(comp_ans)):\n",
        "  answer=\"\"\n",
        "  for j in range(len(inverted_pos)):\n",
        "    if(comp_ans[i] in inverted_pos[j]):\n",
        "      answer = pos[j]\n",
        "  if(comp_ans[i] in user_ans[i]):\n",
        "    print(f'{\"Correct\":{9}} {\"-\":{1}} {words[i]+\"(\"+answer+\")\"}')\n",
        "    score+=1;\n",
        "  else:\n",
        "    print(f'{\"Incorrect\":{9}} {\"-\":{1}} {words[i]+\"(\"+answer+\")\"}')\n",
        "\n",
        "print(\"\\nScore is \"+str(score)+\"/\"+str(len(words)))\n",
        "\n"
      ],
      "execution_count": null,
      "outputs": [
        {
          "output_type": "stream",
          "text": [
            "Drive already mounted at /drive; to attempt to forcibly remount, call drive.mount(\"/drive\", force_remount=True).\n",
            "1  -  Noun\n",
            "2  -  Pronoun\n",
            "3  -  Adjective\n",
            "4  -  Adverb\n",
            "5  -  Verb\n",
            "6  -  Preposition\n",
            "7  -  Conjunction\n",
            "8  -  Interjection\n",
            "\n",
            "\n",
            "Choose the correct parts of speech. \n",
            " Example - Type '1' for Noun\n",
            "\n",
            "Your given words are - \n",
            "officiously    - 4\n",
            "officious      - 1\n",
            "\n",
            "Results - \n",
            "Correct   - officiously(Adverb)\n",
            "Incorrect - officious(Adjective)\n",
            "\n",
            "Score is 1/2\n"
          ],
          "name": "stdout"
        }
      ]
    },
    {
      "cell_type": "code",
      "metadata": {
        "id": "IVbHsNtk-sQa"
      },
      "source": [
        ""
      ],
      "execution_count": null,
      "outputs": []
    }
  ]
}