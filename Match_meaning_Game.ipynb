{
  "nbformat": 4,
  "nbformat_minor": 0,
  "metadata": {
    "colab": {
      "name": "Match_meaning_Game.ipynb",
      "provenance": [],
      "collapsed_sections": [],
      "authorship_tag": "ABX9TyPj+2zwLzWPt/LKtYTWmbAI"
    },
    "kernelspec": {
      "name": "python3",
      "display_name": "Python 3"
    },
    "language_info": {
      "name": "python"
    }
  },
  "cells": [
    {
      "cell_type": "code",
      "metadata": {
        "colab": {
          "base_uri": "https://localhost:8080/"
        },
        "id": "nEXVzBo1hW56",
        "outputId": "e8d5ea4e-c22f-4a88-b1d4-c4fe28fdaaab"
      },
      "source": [
        "#Testing area\n",
        "\n",
        "# !pip install requests\n",
        "# !pip install beautifulsoup4\n",
        "\n",
        "import requests\n",
        "from bs4 import BeautifulSoup\n",
        "import csv\n",
        "import random\n",
        "\n",
        "from google.colab import drive\n",
        "drive.mount('/drive')\n",
        "\n",
        "words = []\n",
        "\n",
        "with open('/drive/My Drive/Colab Notebooks/English_Game/final_EnglishGame_dataset.csv') as csv_file:\n",
        "    csv_reader = csv.reader(csv_file, delimiter=',')\n",
        "    for row in csv_reader:\n",
        "      words.append(row[0])\n",
        "\n",
        "random.shuffle(words)\n",
        "words = words[:5]\n",
        "# words = [\"cat\",\"bat\"]\n",
        "\n",
        "for word in words:\n",
        "  web = requests.get('https://www.lexico.com/en/definition/'+word)\n",
        "  print(word,\":\")\n",
        "  data = web.content\n",
        "  soup = BeautifulSoup(data,features=\"html.parser\")\n",
        "  # print(soup)\n",
        "  tag = soup.find_all(\"span\",\"ind\")\n",
        "  # print(tag)\n",
        "\n",
        "  for i in tag:\n",
        "    print(u\"►\",i.text,\"\\n\")\n",
        "    break\n",
        "    \n"
      ],
      "execution_count": null,
      "outputs": [
        {
          "output_type": "stream",
          "text": [
            "Drive already mounted at /drive; to attempt to forcibly remount, call drive.mount(\"/drive\", force_remount=True).\n",
            "fibreless :\n",
            "creamless :\n",
            "allotee :\n",
            "adsorbate :\n",
            "► A substance that is adsorbed. \n",
            "\n",
            "exaltedness :\n"
          ],
          "name": "stdout"
        }
      ]
    },
    {
      "cell_type": "markdown",
      "metadata": {
        "id": "B89Krqpso5I_"
      },
      "source": [
        "Word Meaning Game"
      ]
    },
    {
      "cell_type": "code",
      "metadata": {
        "colab": {
          "base_uri": "https://localhost:8080/"
        },
        "id": "87dU2-NPo42D",
        "outputId": "ffc0a41a-a337-4b7b-dd71-979893a14800"
      },
      "source": [
        "# !pip install requests\n",
        "# !pip install beautifulsoup4\n",
        "\n",
        "import requests\n",
        "from bs4 import BeautifulSoup\n",
        "import csv\n",
        "import random\n",
        "\n",
        "from google.colab import drive\n",
        "drive.mount('/drive')\n",
        "\n",
        "words = []\n",
        "\n",
        "with open('/drive/My Drive/Colab Notebooks/English_Game/final_EnglishGame_dataset.csv') as csv_file:\n",
        "    csv_reader = csv.reader(csv_file, delimiter=',')\n",
        "    for row in csv_reader:\n",
        "      words.append(row[0])\n",
        "\n",
        "random.shuffle(words)\n",
        "words = words[:5]\n",
        "meanings = []\n",
        "word_meaning = {}\n",
        "words = [\"cat\",\"bat\",\"mat\",\"sit\",\"rat\"]\n",
        "\n",
        "for word in words:\n",
        "  web = requests.get('https://www.lexico.com/en/definition/'+word)\n",
        "  # print(word,\":\")\n",
        "  data = web.content\n",
        "  soup = BeautifulSoup(data,features=\"html.parser\")\n",
        "  # print(soup)\n",
        "  tag = soup.find_all(\"span\",\"ind\")\n",
        "  # print(tag)\n",
        "\n",
        "  for i in tag:\n",
        "    text = i.text\n",
        "    meanings.append(text)\n",
        "    word_meaning[word]=text\n",
        "    break\n",
        "\n",
        "user_ans={}\n",
        "random.shuffle(words)\n",
        "random.shuffle(meanings)\n",
        "\n",
        "print(\"\\nMatch the given words with there meaning - \")\n",
        "print(f'{\"Words\":{20}} {\" \":{5}} Meanings(Options)')\n",
        "\n",
        "for i in range(len(words)):\n",
        "  print(f'{str(chr(65+i))+\") \"+words[i]:{20}} {\"-\":{5}} {str(i+1)+\") \"+meanings[i]}')\n",
        "\n",
        "print(\"\\nYour answers here - \")\n",
        "for i in range(len(words)):\n",
        "  print(f'{str(chr(65+i))+\") \"+words[i]:{20}} {\"-\":{5}}',end=\" \")\n",
        "  ans = int(input())\n",
        "  user_ans[words[i]] = meanings[ans-1]\n",
        "\n",
        "score = 0\n",
        "for i in list(word_meaning.keys()):\n",
        "  if(user_ans[i]==word_meaning[i]):\n",
        "    score+=1\n",
        "\n",
        "\n",
        "# print(words)\n",
        "# print(meanings)\n",
        "# print(word_meaning)\n",
        "# print(user_ans)\n",
        "print(\"\\nScore: \",score,\"/\",len(user_ans))\n",
        "\n",
        "print(\"\\nCorrect answers are - \")\n",
        "for i in list(word_meaning.keys()):\n",
        "  print(i,\"►\",word_meaning[i],\"\\n\")\n"
      ],
      "execution_count": null,
      "outputs": [
        {
          "output_type": "stream",
          "text": [
            "Drive already mounted at /drive; to attempt to forcibly remount, call drive.mount(\"/drive\", force_remount=True).\n",
            "\n",
            "Match the given words with there meaning - \n",
            "Words                      Meanings(Options)\n",
            "A) rat               -     1) A piece of coarse material placed on a floor for people to wipe their feet on.\n",
            "B) bat               -     2) A rodent that resembles a large mouse, typically having a pointed snout and a long, sparsely haired tail. Some kinds have become cosmopolitan and are sometimes responsible for transmitting diseases.\n",
            "C) sit               -     3) Adopt or be in a position in which one's weight is supported by one's buttocks rather than one's feet and one's back is upright.\n",
            "D) cat               -     4) A small domesticated carnivorous mammal with soft fur, a short snout, and retractable claws. It is widely kept as a pet or for catching mice, and many breeds have been developed.\n",
            "E) mat               -     5) An implement with a handle and a solid surface, usually of wood, used for hitting the ball in games such as baseball, cricket, and table tennis.\n",
            "\n",
            "Your answers here - \n",
            "A) rat               -     1\n",
            "B) bat               -     1\n",
            "C) sit               -     1\n",
            "D) cat               -     1\n",
            "E) mat               -     1\n",
            "\n",
            "Score:  1 / 5\n",
            "\n",
            "Correct answers are - \n",
            "cat ► A small domesticated carnivorous mammal with soft fur, a short snout, and retractable claws. It is widely kept as a pet or for catching mice, and many breeds have been developed. \n",
            "\n",
            "bat ► An implement with a handle and a solid surface, usually of wood, used for hitting the ball in games such as baseball, cricket, and table tennis. \n",
            "\n",
            "mat ► A piece of coarse material placed on a floor for people to wipe their feet on. \n",
            "\n",
            "sit ► Adopt or be in a position in which one's weight is supported by one's buttocks rather than one's feet and one's back is upright. \n",
            "\n",
            "rat ► A rodent that resembles a large mouse, typically having a pointed snout and a long, sparsely haired tail. Some kinds have become cosmopolitan and are sometimes responsible for transmitting diseases. \n",
            "\n"
          ],
          "name": "stdout"
        }
      ]
    }
  ]
}