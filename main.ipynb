{
  "nbformat": 4,
  "nbformat_minor": 0,
  "metadata": {
    "colab": {
      "name": "main.ipynb",
      "provenance": [],
      "collapsed_sections": [],
      "authorship_tag": "ABX9TyMweT9e0GQ0f+RWfZQio4NM"
    },
    "kernelspec": {
      "name": "python3",
      "display_name": "Python 3"
    },
    "language_info": {
      "name": "python"
    }
  },
  "cells": [
    {
      "cell_type": "code",
      "metadata": {
        "colab": {
          "base_uri": "https://localhost:8080/"
        },
        "id": "F0gWWA8pKNC1",
        "outputId": "16e7ba5a-7f05-4e33-e6bc-6b4144c3c477"
      },
      "source": [
        "from google.colab import output\n",
        "\n",
        "from google.colab import drive\n",
        "drive.mount('/drive')\n",
        "\n",
        "# !ls \"/drive/My Drive/Colab Notebooks/English_Game\"\n",
        "# !pip install import-ipynb\n",
        "\n",
        "# import sys\n",
        "# sys.path.append('/drive/My Drive/Colab Notebooks/English_Game/Match_meaning_Game.py')\n",
        "# import hello\n",
        "\n",
        "print(\"\\033[1m\"' Welcome To The World of WordPlay'\"\\033[0m\");\n",
        "print(\"Games can contribute to students' skills if they are incorporated into the classroom, particularly if they are used to reinforce or introduce a grammatical rule or structure.\\n\")\n",
        "\n",
        "while(True):\n",
        "  print(\"Select a game of your choice - \")\n",
        "  game_list = [\"Pick a meaning\",\"POS Classification\",\"Sync with Synonym\",\"Turn it -Antonym\",\"Breaking the gaps with POS tags\"]\n",
        "\n",
        "  for i in range(len(game_list)):\n",
        "    print(i+1,\"| \",game_list[i])\n",
        "\n",
        "  print(\"Press 0 to exit\")\n",
        "  print(\"\\nYour Choice: \")\n",
        "  choice = int(input())\n",
        "\n",
        "  if choice == 1 :\n",
        "    !python '/drive/My Drive/Colab Notebooks/English_Game/Match_meaning_Game1.py'\n",
        "\n",
        "  elif choice == 2 :\n",
        "    !python '/drive/My Drive/Colab Notebooks/English_Game/Match_POS_Game.py'\n",
        "\n",
        "  elif choice == 3 :\n",
        "    !python '/drive/My Drive/Colab Notebooks/English_Game/Sync_Synonym.py'\n",
        "\n",
        "  elif choice == 4 :\n",
        "    !python '/drive/My Drive/Colab Notebooks/English_Game/Catch_Antonym.py'\n",
        "\n",
        "  elif choice == 5 :\n",
        "    !python '/drive/My Drive/Colab Notebooks/English_Game/Break_Sent_POS.py'\n",
        "\n",
        "  else:\n",
        "      break\n",
        "\n",
        "\n",
        "  print(\"Type 'y' to return to main menu\")\n",
        "  y = input()\n",
        "  if(y==\"Y\" or y==\"y\"):\n",
        "    output.clear()\n",
        "  else:\n",
        "    output.clear()\n",
        "    break\n",
        "  print(\"\\n\\n\\n\\n\")\n",
        "\n",
        "print(\"Thankyou for choosing us for your learning\")\n",
        "\n",
        "\n",
        "# Reference - https://www.delftstack.com/howto/python/python-bold-text/#:~:text=Print%20Bold%20Text%20in%20Python%20Using%20the%20ANSI,sequence%20to%20print%20bold%20text%20is%3A%20%27033%20%5B1m%27."
      ],
      "execution_count": 17,
      "outputs": [
        {
          "output_type": "stream",
          "text": [
            "Thankyou for choosing us for your learning\n"
          ],
          "name": "stdout"
        }
      ]
    }
  ]
}